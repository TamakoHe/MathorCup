{
 "cells": [
  {
   "cell_type": "code",
   "execution_count": 14,
   "id": "3741cc84",
   "metadata": {},
   "outputs": [],
   "source": [
    "import pydub\n",
    "import numpy as np\n",
    "import os\n",
    "import sounddevice as sd\n",
    "from pesq import pesq\n",
    "from copy import deepcopy\n",
    "import librosa\n",
    "import plotly.graph_objects as go "
   ]
  },
  {
   "cell_type": "code",
   "execution_count": 2,
   "id": "2637725d",
   "metadata": {},
   "outputs": [],
   "source": [
    "audios=[]\n",
    "def find_(name:str):\n",
    "    result=[]\n",
    "    for idx,ch in enumerate(name):\n",
    "        if ch==\"_\":\n",
    "            result.append(idx)\n",
    "    return result\n",
    "for dirpath, dirnames, filenames in os.walk(\"./audio1\"):\n",
    "    for file_name in filenames:\n",
    "        if file_name==\".DS_Store\":\n",
    "            continue\n",
    "        audio_data={}\n",
    "        audio_data[\"format\"]=file_name[-3:]\n",
    "        i_=find_(file_name)\n",
    "        audio_data[\"type\"]=file_name[:i_[0]]\n",
    "        audio_data[\"bits\"]=file_name[i_[-1]+1:-4]\n",
    "        full_path=os.path.join(dirpath, file_name)\n",
    "        dub_temp=pydub.AudioSegment.from_file(full_path, format=audio_data[\"format\"]) \n",
    "        samples=dub_temp.get_array_of_samples()\n",
    "        sample_rate=dub_temp.frame_rate\n",
    "        audio_data[\"freq\"]=sample_rate\n",
    "        audio_data[\"data\"]=samples\n",
    "        audio_data[\"size\"]=os.path.getsize(full_path)\n",
    "        audios.append(audio_data)"
   ]
  },
  {
   "cell_type": "code",
   "execution_count": 3,
   "id": "8550ec12",
   "metadata": {},
   "outputs": [],
   "source": [
    "for audio in audios:\n",
    "    if audio[\"type\"]==\"原始音乐\":\n",
    "        music_origin=audio\n",
    "    elif audio[\"type\"]==\"原始语音\":\n",
    "        speech_origin=audio"
   ]
  },
  {
   "cell_type": "code",
   "execution_count": 10,
   "id": "9d3e7426",
   "metadata": {},
   "outputs": [],
   "source": [
    "def compare_with_mel(ref:dict, deg:dict, n_mels=128, frame_len=0.025, hop_len=0.01, eps=1e-10):\n",
    "    ref_data=np.array(ref[\"data\"], dtype=np.float64)\n",
    "    deg_data=np.array(deg[\"data\"], dtype=np.float64)\n",
    "    ref_data=ref_data/np.max(np.abs(ref_data))\n",
    "    deg_data=deg_data/np.max(np.abs(deg_data)) # 归一化\n",
    "    if ref[\"freq\"]!=deg[\"freq\"]:\n",
    "        deg_data=librosa.resample(deg_data, orig_sr=deg[\"freq\"], target_sr=ref[\"freq\"]) # 把采样率设置为相同\n",
    "    min_len=min(len(ref[\"data\"]), len(deg[\"data\"]))\n",
    "    ref_data=ref_data[:min_len] # 保证长度相同\n",
    "    deg_data=deg_data[:min_len]\n",
    "    n_fft=int(frame_len*ref[\"freq\"])\n",
    "    hop=int(hop_len*ref[\"freq\"])\n",
    "    S_orig=librosa.feature.melspectrogram(y=deg_data, sr=ref[\"freq\"], n_mels=n_mels, n_fft=n_fft, hop_length=hop)\n",
    "    S_deg=librosa.feature.melspectrogram(y=deg_data, sr=deg[\"freq\"], n_mels=n_mels, n_fft=n_fft, hop_length=hop)\n",
    "    los_S_orig=np.log(S_orig+eps)\n",
    "    log_S_deg=np.log(S_deg+eps)\n",
    "    P_signal=np.mean(los_S_orig**2)\n",
    "    D=los_S_orig-log_S_deg\n",
    "    P_noise=np.mean(D**2)\n",
    "    if P_noise==0:\n",
    "        mel_snr=100\n",
    "    else:\n",
    "        mel_snr=10*np.log10(P_signal/P_noise)\n",
    "    return mel_snr"
   ]
  },
  {
   "cell_type": "code",
   "execution_count": 11,
   "id": "a0343b65",
   "metadata": {},
   "outputs": [],
   "source": [
    "for idx,audio in enumerate(audios):\n",
    "    if audio[\"type\"]==\"音乐\":\n",
    "        score=compare_with_mel(ref=music_origin, deg=audio)\n",
    "        audios[idx][\"score\"]=score \n",
    "    elif audio[\"type\"]==\"语音\":\n",
    "        score=compare_with_mel(ref=speech_origin, deg=audio)\n",
    "        audios[idx][\"score\"]=score \n",
    "    else:\n",
    "        audios[idx][\"score\"]=100"
   ]
  },
  {
   "cell_type": "code",
   "execution_count": null,
   "id": "5477246b",
   "metadata": {},
   "outputs": [
    {
     "name": "stdout",
     "output_type": "stream",
     "text": [
      "idx:0, Type:语音, format:wav, freq:16000, score:18.314466718611957, \n",
      "idx:1, Type:音乐, format:mp3, freq:44100, score:18.524451023312423, \n",
      "idx:2, Type:音乐, format:wav, freq:48000, score:100, \n",
      "idx:3, Type:音乐, format:mp3, freq:44100, score:18.426748281117302, \n",
      "idx:4, Type:语音, format:wav, freq:44100, score:27.050768329974176, \n",
      "idx:5, Type:语音, format:mp3, freq:44100, score:27.03502176179284, \n",
      "idx:6, Type:语音, format:mp3, freq:16000, score:20.066914738866966, \n",
      "idx:7, Type:音乐, format:wav, freq:8000, score:7.467198641688583, \n",
      "idx:8, Type:音乐, format:wav, freq:32000, score:11.67471811955007, \n",
      "idx:9, Type:语音, format:wav, freq:16000, score:20.37355769216617, \n",
      "idx:10, Type:语音, format:wav, freq:22050, score:18.685708516542235, \n",
      "idx:11, Type:音乐, format:wav, freq:48000, score:100, \n",
      "idx:12, Type:原始音乐, format:wav, freq:48000, score:100, \n",
      "idx:13, Type:语音, format:wav, freq:8000, score:100, \n",
      "idx:14, Type:语音, format:mp3, freq:44100, score:26.964155764511744, \n",
      "idx:15, Type:语音, format:wav, freq:44100, score:28.089734386334793, \n",
      "idx:16, Type:语音, format:m4a, freq:44100, score:27.021393069413207, \n",
      "idx:17, Type:语音, format:wav, freq:48000, score:100, \n",
      "idx:18, Type:音乐, format:mp3, freq:44100, score:18.436194426283556, \n",
      "idx:19, Type:音乐, format:wav, freq:44100, score:13.580022703525252, \n",
      "idx:20, Type:音乐, format:wav, freq:44100, score:18.642882269141072, \n",
      "idx:21, Type:音乐, format:m4a, freq:44100, score:18.223125667729324, \n",
      "idx:22, Type:语音, format:m4a, freq:44100, score:26.99114679271598, \n",
      "idx:23, Type:语音, format:mp3, freq:44100, score:26.494030627365213, \n",
      "idx:24, Type:音乐, format:mp3, freq:16000, score:8.443338410218882, \n",
      "idx:25, Type:音乐, format:wav, freq:22050, score:9.708847726756195, \n",
      "idx:26, Type:语音, format:m4a, freq:44100, score:27.02486669108307, \n",
      "idx:27, Type:音乐, format:m4a, freq:44100, score:18.224131769919246, \n",
      "idx:28, Type:语音, format:mp3, freq:44100, score:27.053110577342064, \n",
      "idx:29, Type:音乐, format:wav, freq:16000, score:8.496156429028527, \n",
      "idx:30, Type:语音, format:wav, freq:32000, score:19.936990365900282, \n",
      "idx:31, Type:原始语音, format:wav, freq:48000, score:100, \n",
      "idx:32, Type:语音, format:mp3, freq:16000, score:20.092862762523403, \n",
      "idx:33, Type:音乐, format:m4a, freq:44100, score:18.1922497237714, \n",
      "idx:34, Type:音乐, format:mp3, freq:44100, score:18.479373611981607, \n",
      "idx:35, Type:语音, format:wav, freq:48000, score:100, \n"
     ]
    }
   ],
   "source": [
    "for idx,audio in enumerate(audios):\n",
    "    print(f\"idx:{idx}, Type:{audio[\"type\"]}, format:{audio[\"format\"]}, freq:{audio[\"freq\"]}, score:{audio[\"score\"]}, \")"
   ]
  },
  {
   "cell_type": "code",
   "execution_count": 17,
   "id": "7df785cb",
   "metadata": {},
   "outputs": [],
   "source": [
    "def analyse_size(audio_data:list):\n",
    "    sizes=[]\n",
    "    scores=[]\n",
    "    for audio in audio_data:\n",
    "        sizes.append(audio[\"size\"])\n",
    "        scores.append(audio[\"score\"])\n",
    "    fig=go.Figure()\n",
    "    fig.add_trace(go.Scatter(x=sizes, y=scores, mode=\"markers\"))\n",
    "    fig.show()"
   ]
  },
  {
   "cell_type": "code",
   "execution_count": 18,
   "id": "55ace90d",
   "metadata": {},
   "outputs": [
    {
     "data": {
      "application/vnd.plotly.v1+json": {
       "config": {
        "plotlyServerURL": "https://plot.ly"
       },
       "data": [
        {
         "mode": "markers",
         "type": "scatter",
         "x": [
          95525,
          402328,
          960044,
          80500,
          526382,
          241414,
          48716,
          160044,
          640044,
          191006,
          263214,
          1440044,
          1440044,
          95526,
          96591,
          263213,
          55939,
          572928,
          160957,
          441044,
          882044,
          190683,
          33980,
          48317,
          161900,
          441044,
          43845,
          190829,
          144865,
          320044,
          381968,
          859370,
          97388,
          167226,
          241414,
          859370
         ],
         "y": [
          18.314466718611957,
          18.524451023312423,
          100,
          18.426748281117302,
          27.050768329974176,
          27.03502176179284,
          20.066914738866966,
          7.467198641688583,
          11.67471811955007,
          20.37355769216617,
          18.685708516542235,
          100,
          100,
          100,
          26.964155764511744,
          28.089734386334793,
          27.021393069413207,
          100,
          18.436194426283556,
          13.580022703525252,
          18.642882269141072,
          18.223125667729324,
          26.99114679271598,
          26.494030627365213,
          8.443338410218882,
          9.708847726756195,
          27.02486669108307,
          18.224131769919246,
          27.053110577342064,
          8.496156429028527,
          19.936990365900282,
          100,
          20.092862762523403,
          18.1922497237714,
          18.479373611981607,
          100
         ]
        }
       ],
       "layout": {
        "template": {
         "data": {
          "bar": [
           {
            "error_x": {
             "color": "#2a3f5f"
            },
            "error_y": {
             "color": "#2a3f5f"
            },
            "marker": {
             "line": {
              "color": "#E5ECF6",
              "width": 0.5
             },
             "pattern": {
              "fillmode": "overlay",
              "size": 10,
              "solidity": 0.2
             }
            },
            "type": "bar"
           }
          ],
          "barpolar": [
           {
            "marker": {
             "line": {
              "color": "#E5ECF6",
              "width": 0.5
             },
             "pattern": {
              "fillmode": "overlay",
              "size": 10,
              "solidity": 0.2
             }
            },
            "type": "barpolar"
           }
          ],
          "carpet": [
           {
            "aaxis": {
             "endlinecolor": "#2a3f5f",
             "gridcolor": "white",
             "linecolor": "white",
             "minorgridcolor": "white",
             "startlinecolor": "#2a3f5f"
            },
            "baxis": {
             "endlinecolor": "#2a3f5f",
             "gridcolor": "white",
             "linecolor": "white",
             "minorgridcolor": "white",
             "startlinecolor": "#2a3f5f"
            },
            "type": "carpet"
           }
          ],
          "choropleth": [
           {
            "colorbar": {
             "outlinewidth": 0,
             "ticks": ""
            },
            "type": "choropleth"
           }
          ],
          "contour": [
           {
            "colorbar": {
             "outlinewidth": 0,
             "ticks": ""
            },
            "colorscale": [
             [
              0,
              "#0d0887"
             ],
             [
              0.1111111111111111,
              "#46039f"
             ],
             [
              0.2222222222222222,
              "#7201a8"
             ],
             [
              0.3333333333333333,
              "#9c179e"
             ],
             [
              0.4444444444444444,
              "#bd3786"
             ],
             [
              0.5555555555555556,
              "#d8576b"
             ],
             [
              0.6666666666666666,
              "#ed7953"
             ],
             [
              0.7777777777777778,
              "#fb9f3a"
             ],
             [
              0.8888888888888888,
              "#fdca26"
             ],
             [
              1,
              "#f0f921"
             ]
            ],
            "type": "contour"
           }
          ],
          "contourcarpet": [
           {
            "colorbar": {
             "outlinewidth": 0,
             "ticks": ""
            },
            "type": "contourcarpet"
           }
          ],
          "heatmap": [
           {
            "colorbar": {
             "outlinewidth": 0,
             "ticks": ""
            },
            "colorscale": [
             [
              0,
              "#0d0887"
             ],
             [
              0.1111111111111111,
              "#46039f"
             ],
             [
              0.2222222222222222,
              "#7201a8"
             ],
             [
              0.3333333333333333,
              "#9c179e"
             ],
             [
              0.4444444444444444,
              "#bd3786"
             ],
             [
              0.5555555555555556,
              "#d8576b"
             ],
             [
              0.6666666666666666,
              "#ed7953"
             ],
             [
              0.7777777777777778,
              "#fb9f3a"
             ],
             [
              0.8888888888888888,
              "#fdca26"
             ],
             [
              1,
              "#f0f921"
             ]
            ],
            "type": "heatmap"
           }
          ],
          "histogram": [
           {
            "marker": {
             "pattern": {
              "fillmode": "overlay",
              "size": 10,
              "solidity": 0.2
             }
            },
            "type": "histogram"
           }
          ],
          "histogram2d": [
           {
            "colorbar": {
             "outlinewidth": 0,
             "ticks": ""
            },
            "colorscale": [
             [
              0,
              "#0d0887"
             ],
             [
              0.1111111111111111,
              "#46039f"
             ],
             [
              0.2222222222222222,
              "#7201a8"
             ],
             [
              0.3333333333333333,
              "#9c179e"
             ],
             [
              0.4444444444444444,
              "#bd3786"
             ],
             [
              0.5555555555555556,
              "#d8576b"
             ],
             [
              0.6666666666666666,
              "#ed7953"
             ],
             [
              0.7777777777777778,
              "#fb9f3a"
             ],
             [
              0.8888888888888888,
              "#fdca26"
             ],
             [
              1,
              "#f0f921"
             ]
            ],
            "type": "histogram2d"
           }
          ],
          "histogram2dcontour": [
           {
            "colorbar": {
             "outlinewidth": 0,
             "ticks": ""
            },
            "colorscale": [
             [
              0,
              "#0d0887"
             ],
             [
              0.1111111111111111,
              "#46039f"
             ],
             [
              0.2222222222222222,
              "#7201a8"
             ],
             [
              0.3333333333333333,
              "#9c179e"
             ],
             [
              0.4444444444444444,
              "#bd3786"
             ],
             [
              0.5555555555555556,
              "#d8576b"
             ],
             [
              0.6666666666666666,
              "#ed7953"
             ],
             [
              0.7777777777777778,
              "#fb9f3a"
             ],
             [
              0.8888888888888888,
              "#fdca26"
             ],
             [
              1,
              "#f0f921"
             ]
            ],
            "type": "histogram2dcontour"
           }
          ],
          "mesh3d": [
           {
            "colorbar": {
             "outlinewidth": 0,
             "ticks": ""
            },
            "type": "mesh3d"
           }
          ],
          "parcoords": [
           {
            "line": {
             "colorbar": {
              "outlinewidth": 0,
              "ticks": ""
             }
            },
            "type": "parcoords"
           }
          ],
          "pie": [
           {
            "automargin": true,
            "type": "pie"
           }
          ],
          "scatter": [
           {
            "fillpattern": {
             "fillmode": "overlay",
             "size": 10,
             "solidity": 0.2
            },
            "type": "scatter"
           }
          ],
          "scatter3d": [
           {
            "line": {
             "colorbar": {
              "outlinewidth": 0,
              "ticks": ""
             }
            },
            "marker": {
             "colorbar": {
              "outlinewidth": 0,
              "ticks": ""
             }
            },
            "type": "scatter3d"
           }
          ],
          "scattercarpet": [
           {
            "marker": {
             "colorbar": {
              "outlinewidth": 0,
              "ticks": ""
             }
            },
            "type": "scattercarpet"
           }
          ],
          "scattergeo": [
           {
            "marker": {
             "colorbar": {
              "outlinewidth": 0,
              "ticks": ""
             }
            },
            "type": "scattergeo"
           }
          ],
          "scattergl": [
           {
            "marker": {
             "colorbar": {
              "outlinewidth": 0,
              "ticks": ""
             }
            },
            "type": "scattergl"
           }
          ],
          "scattermap": [
           {
            "marker": {
             "colorbar": {
              "outlinewidth": 0,
              "ticks": ""
             }
            },
            "type": "scattermap"
           }
          ],
          "scattermapbox": [
           {
            "marker": {
             "colorbar": {
              "outlinewidth": 0,
              "ticks": ""
             }
            },
            "type": "scattermapbox"
           }
          ],
          "scatterpolar": [
           {
            "marker": {
             "colorbar": {
              "outlinewidth": 0,
              "ticks": ""
             }
            },
            "type": "scatterpolar"
           }
          ],
          "scatterpolargl": [
           {
            "marker": {
             "colorbar": {
              "outlinewidth": 0,
              "ticks": ""
             }
            },
            "type": "scatterpolargl"
           }
          ],
          "scatterternary": [
           {
            "marker": {
             "colorbar": {
              "outlinewidth": 0,
              "ticks": ""
             }
            },
            "type": "scatterternary"
           }
          ],
          "surface": [
           {
            "colorbar": {
             "outlinewidth": 0,
             "ticks": ""
            },
            "colorscale": [
             [
              0,
              "#0d0887"
             ],
             [
              0.1111111111111111,
              "#46039f"
             ],
             [
              0.2222222222222222,
              "#7201a8"
             ],
             [
              0.3333333333333333,
              "#9c179e"
             ],
             [
              0.4444444444444444,
              "#bd3786"
             ],
             [
              0.5555555555555556,
              "#d8576b"
             ],
             [
              0.6666666666666666,
              "#ed7953"
             ],
             [
              0.7777777777777778,
              "#fb9f3a"
             ],
             [
              0.8888888888888888,
              "#fdca26"
             ],
             [
              1,
              "#f0f921"
             ]
            ],
            "type": "surface"
           }
          ],
          "table": [
           {
            "cells": {
             "fill": {
              "color": "#EBF0F8"
             },
             "line": {
              "color": "white"
             }
            },
            "header": {
             "fill": {
              "color": "#C8D4E3"
             },
             "line": {
              "color": "white"
             }
            },
            "type": "table"
           }
          ]
         },
         "layout": {
          "annotationdefaults": {
           "arrowcolor": "#2a3f5f",
           "arrowhead": 0,
           "arrowwidth": 1
          },
          "autotypenumbers": "strict",
          "coloraxis": {
           "colorbar": {
            "outlinewidth": 0,
            "ticks": ""
           }
          },
          "colorscale": {
           "diverging": [
            [
             0,
             "#8e0152"
            ],
            [
             0.1,
             "#c51b7d"
            ],
            [
             0.2,
             "#de77ae"
            ],
            [
             0.3,
             "#f1b6da"
            ],
            [
             0.4,
             "#fde0ef"
            ],
            [
             0.5,
             "#f7f7f7"
            ],
            [
             0.6,
             "#e6f5d0"
            ],
            [
             0.7,
             "#b8e186"
            ],
            [
             0.8,
             "#7fbc41"
            ],
            [
             0.9,
             "#4d9221"
            ],
            [
             1,
             "#276419"
            ]
           ],
           "sequential": [
            [
             0,
             "#0d0887"
            ],
            [
             0.1111111111111111,
             "#46039f"
            ],
            [
             0.2222222222222222,
             "#7201a8"
            ],
            [
             0.3333333333333333,
             "#9c179e"
            ],
            [
             0.4444444444444444,
             "#bd3786"
            ],
            [
             0.5555555555555556,
             "#d8576b"
            ],
            [
             0.6666666666666666,
             "#ed7953"
            ],
            [
             0.7777777777777778,
             "#fb9f3a"
            ],
            [
             0.8888888888888888,
             "#fdca26"
            ],
            [
             1,
             "#f0f921"
            ]
           ],
           "sequentialminus": [
            [
             0,
             "#0d0887"
            ],
            [
             0.1111111111111111,
             "#46039f"
            ],
            [
             0.2222222222222222,
             "#7201a8"
            ],
            [
             0.3333333333333333,
             "#9c179e"
            ],
            [
             0.4444444444444444,
             "#bd3786"
            ],
            [
             0.5555555555555556,
             "#d8576b"
            ],
            [
             0.6666666666666666,
             "#ed7953"
            ],
            [
             0.7777777777777778,
             "#fb9f3a"
            ],
            [
             0.8888888888888888,
             "#fdca26"
            ],
            [
             1,
             "#f0f921"
            ]
           ]
          },
          "colorway": [
           "#636efa",
           "#EF553B",
           "#00cc96",
           "#ab63fa",
           "#FFA15A",
           "#19d3f3",
           "#FF6692",
           "#B6E880",
           "#FF97FF",
           "#FECB52"
          ],
          "font": {
           "color": "#2a3f5f"
          },
          "geo": {
           "bgcolor": "white",
           "lakecolor": "white",
           "landcolor": "#E5ECF6",
           "showlakes": true,
           "showland": true,
           "subunitcolor": "white"
          },
          "hoverlabel": {
           "align": "left"
          },
          "hovermode": "closest",
          "mapbox": {
           "style": "light"
          },
          "paper_bgcolor": "white",
          "plot_bgcolor": "#E5ECF6",
          "polar": {
           "angularaxis": {
            "gridcolor": "white",
            "linecolor": "white",
            "ticks": ""
           },
           "bgcolor": "#E5ECF6",
           "radialaxis": {
            "gridcolor": "white",
            "linecolor": "white",
            "ticks": ""
           }
          },
          "scene": {
           "xaxis": {
            "backgroundcolor": "#E5ECF6",
            "gridcolor": "white",
            "gridwidth": 2,
            "linecolor": "white",
            "showbackground": true,
            "ticks": "",
            "zerolinecolor": "white"
           },
           "yaxis": {
            "backgroundcolor": "#E5ECF6",
            "gridcolor": "white",
            "gridwidth": 2,
            "linecolor": "white",
            "showbackground": true,
            "ticks": "",
            "zerolinecolor": "white"
           },
           "zaxis": {
            "backgroundcolor": "#E5ECF6",
            "gridcolor": "white",
            "gridwidth": 2,
            "linecolor": "white",
            "showbackground": true,
            "ticks": "",
            "zerolinecolor": "white"
           }
          },
          "shapedefaults": {
           "line": {
            "color": "#2a3f5f"
           }
          },
          "ternary": {
           "aaxis": {
            "gridcolor": "white",
            "linecolor": "white",
            "ticks": ""
           },
           "baxis": {
            "gridcolor": "white",
            "linecolor": "white",
            "ticks": ""
           },
           "bgcolor": "#E5ECF6",
           "caxis": {
            "gridcolor": "white",
            "linecolor": "white",
            "ticks": ""
           }
          },
          "title": {
           "x": 0.05
          },
          "xaxis": {
           "automargin": true,
           "gridcolor": "white",
           "linecolor": "white",
           "ticks": "",
           "title": {
            "standoff": 15
           },
           "zerolinecolor": "white",
           "zerolinewidth": 2
          },
          "yaxis": {
           "automargin": true,
           "gridcolor": "white",
           "linecolor": "white",
           "ticks": "",
           "title": {
            "standoff": 15
           },
           "zerolinecolor": "white",
           "zerolinewidth": 2
          }
         }
        }
       }
      }
     },
     "metadata": {},
     "output_type": "display_data"
    }
   ],
   "source": [
    "analyse_size(audio_data=audios)"
   ]
  },
  {
   "cell_type": "code",
   "execution_count": 21,
   "id": "fa85a5e0",
   "metadata": {},
   "outputs": [],
   "source": [
    "import torch, torchaudio"
   ]
  },
  {
   "cell_type": "code",
   "execution_count": null,
   "id": "93563fa6",
   "metadata": {},
   "outputs": [
    {
     "ename": "IndexError",
     "evalue": "list index out of range",
     "output_type": "error",
     "traceback": [
      "\u001b[31m---------------------------------------------------------------------------\u001b[39m",
      "\u001b[31mIndexError\u001b[39m                                Traceback (most recent call last)",
      "\u001b[36mCell\u001b[39m\u001b[36m \u001b[39m\u001b[32mIn[24]\u001b[39m\u001b[32m, line 6\u001b[39m\n\u001b[32m      2\u001b[39m \u001b[38;5;28;01mimport\u001b[39;00m\u001b[38;5;250m \u001b[39m\u001b[34;01mtorchaudio\u001b[39;00m\u001b[34;01m.\u001b[39;00m\u001b[34;01mprototype\u001b[39;00m\u001b[34;01m.\u001b[39;00m\u001b[34;01mdatasets\u001b[39;00m\n\u001b[32m      5\u001b[39m dataset_music=torchaudio.prototype.datasets.Musan(root=\u001b[33m\"\u001b[39m\u001b[33m./musan\u001b[39m\u001b[33m\"\u001b[39m, subset=\u001b[33m\"\u001b[39m\u001b[33mmusic\u001b[39m\u001b[33m\"\u001b[39m)\n\u001b[32m----> \u001b[39m\u001b[32m6\u001b[39m \u001b[43mdataset_music\u001b[49m\u001b[43m.\u001b[49m\u001b[34;43m__getitem__\u001b[39;49m\u001b[43m(\u001b[49m\u001b[32;43m0\u001b[39;49m\u001b[43m)\u001b[49m\n",
      "\u001b[36mFile \u001b[39m\u001b[32m~/Documents/2025/MatherCup/.venv/lib/python3.13/site-packages/torchaudio/prototype/datasets/musan.py:62\u001b[39m, in \u001b[36mMusan.__getitem__\u001b[39m\u001b[34m(self, n)\u001b[39m\n\u001b[32m     47\u001b[39m \u001b[38;5;28;01mdef\u001b[39;00m\u001b[38;5;250m \u001b[39m\u001b[34m__getitem__\u001b[39m(\u001b[38;5;28mself\u001b[39m, n: \u001b[38;5;28mint\u001b[39m) -> Tuple[torch.Tensor, \u001b[38;5;28mint\u001b[39m, \u001b[38;5;28mstr\u001b[39m]:\n\u001b[32m     48\u001b[39m \u001b[38;5;250m    \u001b[39m\u001b[33mr\u001b[39m\u001b[33;03m\"\"\"Return the n-th sample in the dataset.\u001b[39;00m\n\u001b[32m     49\u001b[39m \n\u001b[32m     50\u001b[39m \u001b[33;03m    Args:\u001b[39;00m\n\u001b[32m   (...)\u001b[39m\u001b[32m     60\u001b[39m \u001b[33;03m                File name.\u001b[39;00m\n\u001b[32m     61\u001b[39m \u001b[33;03m    \"\"\"\u001b[39;00m\n\u001b[32m---> \u001b[39m\u001b[32m62\u001b[39m     audio_path, sample_rate, filename = \u001b[38;5;28;43mself\u001b[39;49m\u001b[43m.\u001b[49m\u001b[43mget_metadata\u001b[49m\u001b[43m(\u001b[49m\u001b[43mn\u001b[49m\u001b[43m)\u001b[49m\n\u001b[32m     63\u001b[39m     path = Path(audio_path)\n\u001b[32m     64\u001b[39m     \u001b[38;5;28;01mreturn\u001b[39;00m _load_waveform(path.parent, path.name, sample_rate), sample_rate, filename\n",
      "\u001b[36mFile \u001b[39m\u001b[32m~/Documents/2025/MatherCup/.venv/lib/python3.13/site-packages/torchaudio/prototype/datasets/musan.py:44\u001b[39m, in \u001b[36mMusan.get_metadata\u001b[39m\u001b[34m(self, n)\u001b[39m\n\u001b[32m     28\u001b[39m \u001b[38;5;28;01mdef\u001b[39;00m\u001b[38;5;250m \u001b[39m\u001b[34mget_metadata\u001b[39m(\u001b[38;5;28mself\u001b[39m, n: \u001b[38;5;28mint\u001b[39m) -> Tuple[\u001b[38;5;28mstr\u001b[39m, \u001b[38;5;28mint\u001b[39m, \u001b[38;5;28mstr\u001b[39m]:\n\u001b[32m     29\u001b[39m \u001b[38;5;250m    \u001b[39m\u001b[33mr\u001b[39m\u001b[33;03m\"\"\"Get metadata for the n-th sample in the dataset. Returns filepath instead of waveform,\u001b[39;00m\n\u001b[32m     30\u001b[39m \u001b[33;03m    but otherwise returns the same fields as :py:func:`__getitem__`.\u001b[39;00m\n\u001b[32m     31\u001b[39m \n\u001b[32m   (...)\u001b[39m\u001b[32m     42\u001b[39m \u001b[33;03m                File name.\u001b[39;00m\n\u001b[32m     43\u001b[39m \u001b[33;03m    \"\"\"\u001b[39;00m\n\u001b[32m---> \u001b[39m\u001b[32m44\u001b[39m     audio_path = \u001b[38;5;28;43mself\u001b[39;49m\u001b[43m.\u001b[49m\u001b[43m_walker\u001b[49m\u001b[43m[\u001b[49m\u001b[43mn\u001b[49m\u001b[43m]\u001b[49m\n\u001b[32m     45\u001b[39m     \u001b[38;5;28;01mreturn\u001b[39;00m audio_path, _SAMPLE_RATE, Path(audio_path).name\n",
      "\u001b[31mIndexError\u001b[39m: list index out of range"
     ]
    }
   ],
   "source": [
    "import torchaudio.prototype\n",
    "import torchaudio.prototype.datasets\n",
    "\n",
    "\n",
    "\n",
    "dataset_music=torchaudio.prototype.datasets.Musan(root=\"./musan\", subset=\"music\")"
   ]
  }
 ],
 "metadata": {
  "kernelspec": {
   "display_name": ".venv",
   "language": "python",
   "name": "python3"
  },
  "language_info": {
   "codemirror_mode": {
    "name": "ipython",
    "version": 3
   },
   "file_extension": ".py",
   "mimetype": "text/x-python",
   "name": "python",
   "nbconvert_exporter": "python",
   "pygments_lexer": "ipython3",
   "version": "3.13.2"
  }
 },
 "nbformat": 4,
 "nbformat_minor": 5
}
