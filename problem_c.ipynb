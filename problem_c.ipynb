{
 "cells": [
  {
   "cell_type": "code",
   "execution_count": 3,
   "id": "eb667085",
   "metadata": {
    "ExecuteTime": {
     "end_time": "2025-04-18T07:34:32.032424Z",
     "start_time": "2025-04-18T07:34:31.905928Z"
    }
   },
   "outputs": [],
   "source": [
    "import pydub\n",
    "import numpy as np\n",
    "import os\n",
    "import sounddevice as sd\n",
    "from pesq import pesq\n",
    "from copy import deepcopy\n",
    "import librosa"
   ]
  },
  {
   "cell_type": "code",
   "execution_count": 4,
   "id": "b30a5161",
   "metadata": {},
   "outputs": [],
   "source": [
    "audios=[]\n",
    "def find_(name:str):\n",
    "    result=[]\n",
    "    for idx,ch in enumerate(name):\n",
    "        if ch==\"_\":\n",
    "            result.append(idx)\n",
    "    return result\n",
    "for dirpath, dirnames, filenames in os.walk(\"./audio1\"):\n",
    "    for file_name in filenames:\n",
    "        if file_name==\".DS_Store\":\n",
    "            continue\n",
    "        audio_data={}\n",
    "        audio_data[\"format\"]=file_name[-3:]\n",
    "        i_=find_(file_name)\n",
    "        audio_data[\"type\"]=file_name[:i_[0]]\n",
    "        audio_data[\"bits\"]=file_name[i_[-1]+1:-4]\n",
    "        full_path=os.path.join(dirpath, file_name)\n",
    "        dub_temp=pydub.AudioSegment.from_file(full_path, format=audio_data[\"format\"]) \n",
    "        samples=dub_temp.get_array_of_samples()\n",
    "        sample_rate=dub_temp.frame_rate\n",
    "        audio_data[\"freq\"]=sample_rate\n",
    "        audio_data[\"data\"]=samples\n",
    "        audio_data[\"size\"]=os.path.getsize(full_path)\n",
    "        audios.append(audio_data)"
   ]
  },
  {
   "cell_type": "code",
   "execution_count": 5,
   "id": "3b2c69bc",
   "metadata": {},
   "outputs": [],
   "source": [
    "# sd.play(audios[0][\"data\"], audios[0][\"freq\"])\n"
   ]
  },
  {
   "cell_type": "code",
   "execution_count": 6,
   "id": "ac43f02d",
   "metadata": {},
   "outputs": [],
   "source": [
    "for audio in audios:\n",
    "    if audio[\"type\"]==\"原始音乐\":\n",
    "        music_origin=audio\n",
    "    elif audio[\"type\"]==\"原始语音\":\n",
    "        speech_origin=audio"
   ]
  },
  {
   "cell_type": "code",
   "execution_count": 7,
   "id": "855c5110",
   "metadata": {},
   "outputs": [
    {
     "data": {
      "text/plain": [
       "np.int32(-1932735233)"
      ]
     },
     "execution_count": 7,
     "metadata": {},
     "output_type": "execute_result"
    }
   ],
   "source": [
    "# sd.play(music_origin[\"data\"], music_origin[\"freq\"] )\n",
    "np.min(np.array(music_origin[\"data\"]))"
   ]
  },
  {
   "cell_type": "code",
   "execution_count": null,
   "id": "252215ac",
   "metadata": {},
   "outputs": [],
   "source": [
    "def compare_with_mel(ref:dict, deg:dict, n_mels=128, frame_len=0.025, hop_len=0.01, eps=1e-10):\n",
    "    ref_data=np.array(ref[\"data\"], dtype=np.float64)\n",
    "    deg_data=np.array(deg[\"data\"], dtype=np.float64)\n",
    "    ref_data=ref_data/np.max(np.abs(ref_data))\n",
    "    deg_data=deg_data/np.max(np.abs(deg_data))\n",
    "    # print(ref_data)\n",
    "    # print(deg)\n",
    "    if ref[\"freq\"]!=deg[\"freq\"]:\n",
    "        deg_data=librosa.resample(deg_data, orig_sr=deg[\"freq\"], target_sr=ref[\"freq\"])\n",
    "    min_len=min(len(ref[\"data\"]), len(deg[\"data\"]))\n",
    "    \n",
    "    ref_data=ref_data[:min_len]\n",
    "    deg_data=deg_data[:min_len]\n",
    "    n_fft=int(frame_len*ref[\"freq\"])\n",
    "    hop=int(hop_len*ref[\"freq\"])\n",
    "    S_orig=librosa.feature.melspectrogram(y=deg_data, sr=ref[\"freq\"], n_mels=n_mels, n_fft=n_fft, hop_length=hop)\n",
    "    S_deg=librosa.feature.melspectrogram(y=deg_data, sr=deg[\"freq\"], n_mels=n_mels, n_fft=n_fft, hop_length=hop)\n",
    "    los_S_orig=np.log(S_orig+eps)\n",
    "    log_S_deg=np.log(S_deg+eps)\n",
    "    P_signal=np.mean(los_S_orig**2)\n",
    "    D=los_S_orig-log_S_deg\n",
    "    P_noise=np.mean(D**2)\n",
    "    if P_noise==0:\n",
    "        mel_snr=float('inf')\n",
    "    else:\n",
    "        mel_snr=10*np.log10(P_signal/P_noise)\n",
    "    return mel_snr"
   ]
  },
  {
   "cell_type": "code",
   "execution_count": 9,
   "id": "113137a9",
   "metadata": {},
   "outputs": [],
   "source": [
    "for idx,audio in enumerate(audios):\n",
    "    if audio[\"type\"]==\"音乐\":\n",
    "        score=compare_with_mel(ref=music_origin, deg=audio)\n",
    "        audios[idx][\"score\"]=score \n",
    "    elif audio[\"type\"]==\"语音\":\n",
    "        score=compare_with_mel(ref=speech_origin, deg=audio)\n",
    "        audios[idx][\"score\"]=score \n",
    "    else:\n",
    "        audios[idx][\"score\"]=float('inf')"
   ]
  },
  {
   "cell_type": "code",
   "execution_count": 10,
   "id": "1074a18a",
   "metadata": {},
   "outputs": [
    {
     "name": "stdout",
     "output_type": "stream",
     "text": [
      "idx:0, Type:语音, format:wav, freq:16000, score:18.314466718611957, \n",
      "idx:1, Type:音乐, format:mp3, freq:44100, score:18.524451023312423, \n",
      "idx:2, Type:音乐, format:wav, freq:48000, score:inf, \n",
      "idx:3, Type:音乐, format:mp3, freq:44100, score:18.426748281117302, \n",
      "idx:4, Type:语音, format:wav, freq:44100, score:27.050768329974176, \n",
      "idx:5, Type:语音, format:mp3, freq:44100, score:27.03502176179284, \n",
      "idx:6, Type:语音, format:mp3, freq:16000, score:20.066914738866966, \n",
      "idx:7, Type:音乐, format:wav, freq:8000, score:7.467198641688583, \n",
      "idx:8, Type:音乐, format:wav, freq:32000, score:11.67471811955007, \n",
      "idx:9, Type:语音, format:wav, freq:16000, score:20.37355769216617, \n",
      "idx:10, Type:语音, format:wav, freq:22050, score:18.685708516542235, \n",
      "idx:11, Type:音乐, format:wav, freq:48000, score:inf, \n",
      "idx:12, Type:原始音乐, format:wav, freq:48000, score:inf, \n",
      "idx:13, Type:语音, format:wav, freq:8000, score:inf, \n",
      "idx:14, Type:语音, format:mp3, freq:44100, score:26.964155764511744, \n",
      "idx:15, Type:语音, format:wav, freq:44100, score:28.089734386334793, \n",
      "idx:16, Type:语音, format:m4a, freq:44100, score:27.021393069413207, \n",
      "idx:17, Type:语音, format:wav, freq:48000, score:inf, \n",
      "idx:18, Type:音乐, format:mp3, freq:44100, score:18.436194426283556, \n",
      "idx:19, Type:音乐, format:wav, freq:44100, score:13.580022703525252, \n",
      "idx:20, Type:音乐, format:wav, freq:44100, score:18.642882269141072, \n",
      "idx:21, Type:音乐, format:m4a, freq:44100, score:18.223125667729324, \n",
      "idx:22, Type:语音, format:m4a, freq:44100, score:26.99114679271598, \n",
      "idx:23, Type:语音, format:mp3, freq:44100, score:26.494030627365213, \n",
      "idx:24, Type:音乐, format:mp3, freq:16000, score:8.443338410218882, \n",
      "idx:25, Type:音乐, format:wav, freq:22050, score:9.708847726756195, \n",
      "idx:26, Type:语音, format:m4a, freq:44100, score:27.02486669108307, \n",
      "idx:27, Type:音乐, format:m4a, freq:44100, score:18.224131769919246, \n",
      "idx:28, Type:语音, format:mp3, freq:44100, score:27.053110577342064, \n",
      "idx:29, Type:音乐, format:wav, freq:16000, score:8.496156429028527, \n",
      "idx:30, Type:语音, format:wav, freq:32000, score:19.936990365900282, \n",
      "idx:31, Type:原始语音, format:wav, freq:48000, score:inf, \n",
      "idx:32, Type:语音, format:mp3, freq:16000, score:20.092862762523403, \n",
      "idx:33, Type:音乐, format:m4a, freq:44100, score:18.1922497237714, \n",
      "idx:34, Type:音乐, format:mp3, freq:44100, score:18.479373611981607, \n",
      "idx:35, Type:语音, format:wav, freq:48000, score:inf, \n"
     ]
    }
   ],
   "source": [
    "for idx,audio in enumerate(audios):\n",
    "    print(f\"idx:{idx}, Type:{audio[\"type\"]}, format:{audio[\"format\"]}, freq:{audio[\"freq\"]}, score:{audio[\"score\"]}, \")"
   ]
  },
  {
   "cell_type": "code",
   "execution_count": 17,
   "id": "18443af9",
   "metadata": {},
   "outputs": [
    {
     "name": "stdout",
     "output_type": "stream",
     "text": [
      "sc_mp3:181.41308607370675, sc_acc:135.6769137146322, sc_wav:87.36340768897529\n"
     ]
    }
   ],
   "source": [
    "summary_mp3=0\n",
    "summary_acc=0\n",
    "summary_wav=0\n",
    "for audio in audios:\n",
    "    if audio[\"freq\"]==44100:\n",
    "        if audio[\"format\"]==\"mp3\":\n",
    "           summary_mp3+=audio[\"score\"]\n",
    "        elif audio[\"format\"]==\"m4a\":\n",
    "            summary_acc+=audio[\"score\"]\n",
    "        elif audio[\"format\"]==\"wav\":\n",
    "            summary_wav+=audio[\"score\"]\n",
    "print(f\"sc_mp3:{summary_mp3}, sc_acc:{summary_acc}, sc_wav:{summary_wav}\")"
   ]
  },
  {
   "cell_type": "code",
   "execution_count": 19,
   "id": "1cdb84ba",
   "metadata": {},
   "outputs": [
    {
     "name": "stdout",
     "output_type": "stream",
     "text": [
      "[95525, 402328, 960044, 80500, 526382, 241414, 48716, 160044, 640044, 191006, 263214, 1440044, 1440044, 95526, 96591, 263213, 55939, 572928, 160957, 441044, 882044, 190683, 33980, 48317, 161900, 441044, 43845, 190829, 144865, 320044, 381968, 859370, 97388, 167226, 241414, 859370]\n"
     ]
    }
   ],
   "source": [
    "sizes=[audio[\"size\"] for audio in audios]\n",
    "print(sizes)"
   ]
  },
  {
   "cell_type": "code",
   "execution_count": null,
   "id": "d3c5b4b1",
   "metadata": {},
   "outputs": [],
   "source": [
    "w_size=0.3\n",
    "w_loss=0.4\n",
    "w_compute=0.15\n",
    "w_suit=0.15 \n",
    "suit_scores={}"
   ]
  },
  {
   "cell_type": "code",
   "execution_count": null,
   "id": "e036f4ef",
   "metadata": {},
   "outputs": [
    {
     "name": "stdout",
     "output_type": "stream",
     "text": [
      "各指标权重： [0.29255174 0.37872025 0.32872801]\n"
     ]
    }
   ],
   "source": [
    "import numpy as np\n",
    "\n",
    "def entropy_weight_method(data):\n",
    "    \"\"\"\n",
    "    熵权法计算指标权重\n",
    "    参数:\n",
    "        data: numpy 数组，行表示样本，列表示指标\n",
    "    返回:\n",
    "        weights: 各指标的权重\n",
    "    \"\"\"\n",
    "    # 数据预处理：确保数据为正值（熵权法要求数据非负）\n",
    "    data = np.array(data, dtype=float)\n",
    "    if (data < 0).any():\n",
    "        raise ValueError(\"数据中包含负值，请确保所有数据非负！\")\n",
    "\n",
    "    # 1. 数据标准化（归一化到 [0,1]）\n",
    "    # 使用线性归一化：(x - min) / (max - min)\n",
    "    min_val = np.min(data, axis=0)\n",
    "    max_val = np.max(data, axis=0)\n",
    "    # 防止除以零\n",
    "    denominator = max_val - min_val\n",
    "    denominator[denominator == 0] = 1  # 如果某列最大值等于最小值，设分母为 1\n",
    "    normalized_data = (data - min_val) / denominator\n",
    "\n",
    "    # 2. 计算比重 p_ij\n",
    "    # 防止除以零，先对归一化数据加一个小值（如 1e-10）\n",
    "    normalized_data += 1e-10\n",
    "    row_sums = np.sum(normalized_data, axis=1, keepdims=True)\n",
    "    p = normalized_data / row_sums\n",
    "\n",
    "    # 3. 计算熵值 e_j\n",
    "    m = data.shape[0]  # 样本数\n",
    "    k = 1 / np.log(m)  # 常数 k = 1/ln(m)\n",
    "    entropy = -k * np.sum(p * np.log(p), axis=0)\n",
    "\n",
    "    # 4. 计算权重 w_j\n",
    "    d = 1 - entropy  # 差异系数\n",
    "    weights = d / np.sum(d)  # 归一化权重\n",
    "\n",
    "    return weights\n",
    "\n",
    "# 示例数据\n",
    "if __name__ == \"__main__\":\n",
    "    # 假设有 4 个样本，3 个指标\n",
    "    data = np.array([\n",
    "        [5, 2, 9],\n",
    "        [3, 4, 7],\n",
    "        [4, 3, 8],\n",
    "        [6, 5, 6]\n",
    "    ])\n",
    "     \n",
    "    try:\n",
    "        weights = entropy_weight_method(data)\n",
    "        print(\"各指标权重：\", weights)\n",
    "    except ValueError as e:\n",
    "        print(\"错误：\", e)"
   ]
  }
 ],
 "metadata": {
  "kernelspec": {
   "display_name": ".venv",
   "language": "python",
   "name": "python3"
  },
  "language_info": {
   "codemirror_mode": {
    "name": "ipython",
    "version": 3
   },
   "file_extension": ".py",
   "mimetype": "text/x-python",
   "name": "python",
   "nbconvert_exporter": "python",
   "pygments_lexer": "ipython3",
   "version": "3.13.2"
  }
 },
 "nbformat": 4,
 "nbformat_minor": 5
}
