{
 "cells": [
  {
   "cell_type": "code",
   "execution_count": null,
   "id": "eb667085",
   "metadata": {
    "ExecuteTime": {
     "end_time": "2025-04-18T07:34:32.032424Z",
     "start_time": "2025-04-18T07:34:31.905928Z"
    }
   },
   "outputs": [],
   "source": [
    "import pydub\n",
    "import numpy as np\n",
    "import os\n",
    "import sounddevice as sd\n",
    "from pesq import pesq\n",
    "from copy import deepcopy\n",
    "import librosa"
   ]
  },
  {
   "cell_type": "code",
   "execution_count": 2,
   "id": "b30a5161",
   "metadata": {},
   "outputs": [],
   "source": [
    "audios=[]\n",
    "def find_(name:str):\n",
    "    result=[]\n",
    "    for idx,ch in enumerate(name):\n",
    "        if ch==\"_\":\n",
    "            result.append(idx)\n",
    "    return result\n",
    "for dirpath, dirnames, filenames in os.walk(\"./audio1\"):\n",
    "    for file_name in filenames:\n",
    "        if file_name==\".DS_Store\":\n",
    "            continue\n",
    "        audio_data={}\n",
    "        audio_data[\"format\"]=file_name[-3:]\n",
    "        i_=find_(file_name)\n",
    "        audio_data[\"type\"]=file_name[:i_[0]]\n",
    "        audio_data[\"bits\"]=file_name[i_[-1]+1:-4]\n",
    "        full_path=os.path.join(dirpath, file_name)\n",
    "        dub_temp=pydub.AudioSegment.from_file(full_path, format=audio_data[\"format\"]) \n",
    "        samples=dub_temp.get_array_of_samples()\n",
    "        sample_rate=dub_temp.frame_rate\n",
    "        audio_data[\"freq\"]=sample_rate\n",
    "        audio_data[\"data\"]=samples\n",
    "        audio_data[\"size\"]=os.path.getsize(full_path)\n",
    "        audios.append(audio_data)"
   ]
  },
  {
   "cell_type": "code",
   "execution_count": 3,
   "id": "3b2c69bc",
   "metadata": {},
   "outputs": [],
   "source": [
    "# sd.play(audios[0][\"data\"], audios[0][\"freq\"])\n"
   ]
  },
  {
   "cell_type": "code",
   "execution_count": 4,
   "id": "ac43f02d",
   "metadata": {},
   "outputs": [],
   "source": [
    "for audio in audios:\n",
    "    if audio[\"type\"]==\"原始音乐\":\n",
    "        music_origin=audio\n",
    "    elif audio[\"type\"]==\"原始语音\":\n",
    "        speech_origin=audio"
   ]
  },
  {
   "cell_type": "code",
   "execution_count": 5,
   "id": "855c5110",
   "metadata": {},
   "outputs": [
    {
     "data": {
      "text/plain": [
       "np.int32(-1932735233)"
      ]
     },
     "execution_count": 5,
     "metadata": {},
     "output_type": "execute_result"
    }
   ],
   "source": [
    "# sd.play(music_origin[\"data\"], music_origin[\"freq\"] )\n",
    "np.min(np.array(music_origin[\"data\"]))"
   ]
  },
  {
   "cell_type": "code",
   "execution_count": null,
   "id": "252215ac",
   "metadata": {},
   "outputs": [],
   "source": [
    "def compare_with_mel(ref:dict, deg:dict, n_mels=128, frame_len=0.025, hop_len=0.01, eps=1e-10):\n",
    "    ref_data=np.array(ref[\"data\"], dtype=np.float64)\n",
    "    deg_data=np.array(deg[\"data\"], dtype=np.float64)\n",
    "    ref_data=ref_data/np.max(np.abs(ref_data))\n",
    "    deg_data=deg_data/np.max(np.abs(deg_data)) # 归一化\n",
    "    if ref[\"freq\"]!=deg[\"freq\"]:\n",
    "        deg_data=librosa.resample(deg_data, orig_sr=deg[\"freq\"], target_sr=ref[\"freq\"]) # 把采样率设置为相同\n",
    "    min_len=min(len(ref[\"data\"]), len(deg[\"data\"]))\n",
    "    ref_data=ref_data[:min_len] # 保证长度相同\n",
    "    deg_data=deg_data[:min_len]\n",
    "    n_fft=int(frame_len*ref[\"freq\"])\n",
    "    hop=int(hop_len*ref[\"freq\"])\n",
    "    S_orig=librosa.feature.melspectrogram(y=deg_data, sr=ref[\"freq\"], n_mels=n_mels, n_fft=n_fft, hop_length=hop)\n",
    "    S_deg=librosa.feature.melspectrogram(y=deg_data, sr=deg[\"freq\"], n_mels=n_mels, n_fft=n_fft, hop_length=hop)\n",
    "    los_S_orig=np.log(S_orig+eps)\n",
    "    log_S_deg=np.log(S_deg+eps)\n",
    "    P_signal=np.mean(los_S_orig**2)\n",
    "    D=los_S_orig-log_S_deg\n",
    "    P_noise=np.mean(D**2)\n",
    "    if P_noise==0:\n",
    "        mel_snr=float('inf')\n",
    "    else:\n",
    "        mel_snr=10*np.log10(P_signal/P_noise)\n",
    "    return mel_snr"
   ]
  },
  {
   "cell_type": "code",
   "execution_count": 7,
   "id": "113137a9",
   "metadata": {},
   "outputs": [],
   "source": [
    "for idx,audio in enumerate(audios):\n",
    "    if audio[\"type\"]==\"音乐\":\n",
    "        score=compare_with_mel(ref=music_origin, deg=audio)\n",
    "        audios[idx][\"score\"]=score \n",
    "    elif audio[\"type\"]==\"语音\":\n",
    "        score=compare_with_mel(ref=speech_origin, deg=audio)\n",
    "        audios[idx][\"score\"]=score \n",
    "    else:\n",
    "        audios[idx][\"score\"]=float('inf')"
   ]
  },
  {
   "cell_type": "code",
   "execution_count": 8,
   "id": "1074a18a",
   "metadata": {},
   "outputs": [
    {
     "name": "stdout",
     "output_type": "stream",
     "text": [
      "idx:0, Type:语音, format:wav, freq:16000, score:18.314466718611957, \n",
      "idx:1, Type:音乐, format:mp3, freq:44100, score:18.524451023312423, \n",
      "idx:2, Type:音乐, format:wav, freq:48000, score:inf, \n",
      "idx:3, Type:音乐, format:mp3, freq:44100, score:18.426748281117302, \n",
      "idx:4, Type:语音, format:wav, freq:44100, score:27.050768329974176, \n",
      "idx:5, Type:语音, format:mp3, freq:44100, score:27.03502176179284, \n",
      "idx:6, Type:语音, format:mp3, freq:16000, score:20.066914738866966, \n",
      "idx:7, Type:音乐, format:wav, freq:8000, score:7.467198641688583, \n",
      "idx:8, Type:音乐, format:wav, freq:32000, score:11.67471811955007, \n",
      "idx:9, Type:语音, format:wav, freq:16000, score:20.37355769216617, \n",
      "idx:10, Type:语音, format:wav, freq:22050, score:18.685708516542235, \n",
      "idx:11, Type:音乐, format:wav, freq:48000, score:inf, \n",
      "idx:12, Type:原始音乐, format:wav, freq:48000, score:inf, \n",
      "idx:13, Type:语音, format:wav, freq:8000, score:inf, \n",
      "idx:14, Type:语音, format:mp3, freq:44100, score:26.964155764511744, \n",
      "idx:15, Type:语音, format:wav, freq:44100, score:28.089734386334793, \n",
      "idx:16, Type:语音, format:m4a, freq:44100, score:27.021393069413207, \n",
      "idx:17, Type:语音, format:wav, freq:48000, score:inf, \n",
      "idx:18, Type:音乐, format:mp3, freq:44100, score:18.436194426283556, \n",
      "idx:19, Type:音乐, format:wav, freq:44100, score:13.580022703525252, \n",
      "idx:20, Type:音乐, format:wav, freq:44100, score:18.642882269141072, \n",
      "idx:21, Type:音乐, format:m4a, freq:44100, score:18.223125667729324, \n",
      "idx:22, Type:语音, format:m4a, freq:44100, score:26.99114679271598, \n",
      "idx:23, Type:语音, format:mp3, freq:44100, score:26.494030627365213, \n",
      "idx:24, Type:音乐, format:mp3, freq:16000, score:8.443338410218882, \n",
      "idx:25, Type:音乐, format:wav, freq:22050, score:9.708847726756195, \n",
      "idx:26, Type:语音, format:m4a, freq:44100, score:27.02486669108307, \n",
      "idx:27, Type:音乐, format:m4a, freq:44100, score:18.224131769919246, \n",
      "idx:28, Type:语音, format:mp3, freq:44100, score:27.053110577342064, \n",
      "idx:29, Type:音乐, format:wav, freq:16000, score:8.496156429028527, \n",
      "idx:30, Type:语音, format:wav, freq:32000, score:19.936990365900282, \n",
      "idx:31, Type:原始语音, format:wav, freq:48000, score:inf, \n",
      "idx:32, Type:语音, format:mp3, freq:16000, score:20.092862762523403, \n",
      "idx:33, Type:音乐, format:m4a, freq:44100, score:18.1922497237714, \n",
      "idx:34, Type:音乐, format:mp3, freq:44100, score:18.479373611981607, \n",
      "idx:35, Type:语音, format:wav, freq:48000, score:inf, \n"
     ]
    }
   ],
   "source": [
    "for idx,audio in enumerate(audios):\n",
    "    print(f\"idx:{idx}, Type:{audio[\"type\"]}, format:{audio[\"format\"]}, freq:{audio[\"freq\"]}, score:{audio[\"score\"]}, \")"
   ]
  },
  {
   "cell_type": "code",
   "execution_count": 14,
   "id": "18443af9",
   "metadata": {},
   "outputs": [
    {
     "name": "stdout",
     "output_type": "stream",
     "text": [
      "sc_mp3:181.41308607370675, sc_acc:135.6769137146322, sc_wav:87.36340768897529\n"
     ]
    }
   ],
   "source": [
    "summary_mp3=0\n",
    "summary_acc=0\n",
    "summary_wav=0\n",
    "summary_mp3_size=0\n",
    "summary_acc_size=0\n",
    "summary_wav_size=0\n",
    "for audio in audios:\n",
    "    if audio[\"freq\"]==44100:\n",
    "        if audio[\"format\"]==\"mp3\":\n",
    "           summary_mp3+=audio[\"score\"]\n",
    "           summary_mp3_size+=audio[\"size\"]\n",
    "        elif audio[\"format\"]==\"m4a\":\n",
    "            summary_acc+=audio[\"score\"]\n",
    "            summary_acc_size+=audio[\"size\"]\n",
    "        elif audio[\"format\"]==\"wav\":\n",
    "            summary_wav+=audio[\"score\"]\n",
    "            summary_wav_size+=audio[\"score\"]\n",
    "print(f\"sc_mp3:{summary_mp3}, sc_acc:{summary_acc}, sc_wav:{summary_wav}\")"
   ]
  },
  {
   "cell_type": "code",
   "execution_count": 16,
   "id": "1cdb84ba",
   "metadata": {},
   "outputs": [
    {
     "name": "stdout",
     "output_type": "stream",
     "text": [
      "1416386 87.36340768897529\n",
      "[np.float64(0.0), np.float64(0.5181703780819584), np.float64(1.0)]\n"
     ]
    }
   ],
   "source": [
    "sizes=[i_size for i_size in [summary_mp3_size, summary_acc_size, summary_wav_size]]\n",
    "max_size=max(sizes)\n",
    "min_size=min(sizes)\n",
    "print(max_size, min_size)\n",
    "sizes=[(max_size-i)/(max_size-min_size) for i in sizes]\n",
    "print(sizes)"
   ]
  },
  {
   "cell_type": "code",
   "execution_count": 17,
   "id": "2fde799f",
   "metadata": {},
   "outputs": [
    {
     "name": "stdout",
     "output_type": "stream",
     "text": [
      "[1.0, 0.513701980223894, 0.0]\n"
     ]
    }
   ],
   "source": [
    "losses=[float(au) if au!=float('inf') else 50 for au in [summary_mp3, summary_acc, summary_wav] ]\n",
    "max_loss=max(losses)\n",
    "min_loss=min(losses)\n",
    "losses=[(i-min_loss)/(max_loss-min_loss) for i in losses]\n",
    "print(losses)"
   ]
  },
  {
   "cell_type": "code",
   "execution_count": 12,
   "id": "d3c5b4b1",
   "metadata": {},
   "outputs": [
    {
     "name": "stdout",
     "output_type": "stream",
     "text": [
      "[0.25503300348223334, 0.25997000029397593, 1.0, 0.25767288514813735, 0.46043451319621886, 0.46006429144551214, 0.29623527477143824, 0.0, 0.09892410900509113, 0.30344483876690453, 0.26376136808730144, 1.0, 1.0, 1.0, 0.458398142143845, 0.484861920354473, 0.4597438636358125, 1.0, 0.257894975978381, 0.14372023160054917, 0.26275446879937586, 0.25288545975208626, 0.45903273538346856, 0.447344905062515, 0.022950281602825803, 0.05270400757719118, 0.4598255328783484, 0.25290911448814385, 0.4604895823967673, 0.024192100084629714, 0.2931805882984699, 1.0, 0.2968453456538577, 0.25215952722538026, 0.25891017329243265, 1.0]\n"
     ]
    }
   ],
   "source": [
    "print(losses)"
   ]
  },
  {
   "cell_type": "code",
   "execution_count": null,
   "id": "4e30d8ec",
   "metadata": {},
   "outputs": [
    {
     "name": "stdout",
     "output_type": "stream",
     "text": [
      "[0.24668304668304683, 0.0, 1.0]\n"
     ]
    }
   ],
   "source": [
    "cmp_cmx=[(14.75+1.31)/2, (20.07+1.01)/2, (0.51+0.22)/2]\n",
    "max_cmx=max(cmp_cmx)\n",
    "min_cmx=min(cmp_cmx)\n",
    "cmp_cmx=[(max_cmx-i)/(max_cmx-min_cmx) for i in cmp_cmx]\n",
    "print(cmp_cmx)\n"
   ]
  },
  {
   "cell_type": "code",
   "execution_count": null,
   "id": "6dd1b2b3",
   "metadata": {},
   "outputs": [
    {
     "name": "stdout",
     "output_type": "stream",
     "text": [
      "[[0.         0.51817038 1.        ]\n",
      " [1.         0.51370198 0.        ]\n",
      " [0.24668305 0.         1.        ]\n",
      " [1.         2.         3.        ]]\n"
     ]
    }
   ],
   "source": []
  },
  {
   "cell_type": "code",
   "execution_count": null,
   "id": "e036f4ef",
   "metadata": {},
   "outputs": [
    {
     "name": "stdout",
     "output_type": "stream",
     "text": [
      "[[0.         1.         0.24668305 1.        ]\n",
      " [0.51817038 0.51370198 0.         2.        ]\n",
      " [1.         0.         1.         3.        ]]\n",
      "各指标权重： [0.21516213 0.32669979 0.24226642 0.21587166]\n",
      "[mp3, acc,wav]=[0.6023344694170183, 0.7110602923735012, 1.1050435262357652]\n"
     ]
    }
   ],
   "source": [
    "import numpy as np\n",
    "\n",
    "def entropy_weight_method(data):\n",
    "    \"\"\"\n",
    "    熵权法计算指标权重\n",
    "    参数:\n",
    "        data: numpy 数组，行表示样本，列表示指标\n",
    "    返回:\n",
    "        weights: 各指标的权重\n",
    "    \"\"\"\n",
    "    # 数据预处理：确保数据为正值（熵权法要求数据非负）\n",
    "    data = np.array(data, dtype=float)\n",
    "    if (data < 0).any():\n",
    "        raise ValueError(\"数据中包含负值，请确保所有数据非负！\")\n",
    "\n",
    "    # 1. 数据标准化（归一化到 [0,1]）\n",
    "    # 使用线性归一化：(x - min) / (max - min)\n",
    "    min_val = np.min(data, axis=0)\n",
    "    max_val = np.max(data, axis=0)\n",
    "    # 防止除以零\n",
    "    denominator = max_val - min_val\n",
    "    denominator[denominator == 0] = 1  # 如果某列最大值等于最小值，设分母为 1\n",
    "    normalized_data = (data - min_val) / denominator\n",
    "\n",
    "    # 2. 计算比重 p_ij\n",
    "    # 防止除以零，先对归一化数据加一个小值（如 1e-10）\n",
    "    normalized_data += 1e-10\n",
    "    row_sums = np.sum(normalized_data, axis=1, keepdims=True)\n",
    "    p = normalized_data / row_sums\n",
    "\n",
    "    # 3. 计算熵值 e_j\n",
    "    m = data.shape[0]  # 样本数\n",
    "    k = 1 / np.log(m)  # 常数 k = 1/ln(m)\n",
    "    entropy = -k * np.sum(p * np.log(p), axis=0)\n",
    "\n",
    "    # 4. 计算权重 w_j\n",
    "    d = 1 - entropy  # 差异系数\n",
    "    weights = d / np.sum(d)  # 归一化权重\n",
    "\n",
    "    return weights\n",
    "\n",
    "# 示例数据\n",
    "if __name__ == \"__main__\":\n",
    "    # 假设有 4 个样本，3 个指标\n",
    "     \n",
    "    apx_mat=np.array([\n",
    "        sizes, losses, cmp_cmx, [1,2,3]\n",
    "    ])\n",
    "    apx_mat=np.transpose(apx_mat)\n",
    "    print(apx_mat)\n",
    "    try:\n",
    "        weights = entropy_weight_method(apx_mat)\n",
    "        print(\"各指标权重：\", weights)\n",
    "        final_mp3=float(weights[0]*sizes[0]+weights[1]*losses[0]+weights[2]*cmp_cmx[0]+weights[3]*1 )\n",
    "        final_acc=float(weights[0]*sizes[1]+weights[1]*losses[1]+weights[2]*cmp_cmx[1]+weights[3]*2 )\n",
    "        final_wav=float(weights[0]*sizes[2]+weights[1]*losses[2]+weights[2]*cmp_cmx[2]+weights[3]*3 )\n",
    "        print(f\"[mp3, acc,wav]={[final_mp3, final_acc, final_wav]}\")\n",
    "    except ValueError as e:\n",
    "        print(\"错误：\", e)\n",
    "        "
   ]
  }
 ],
 "metadata": {
  "kernelspec": {
   "display_name": ".venv",
   "language": "python",
   "name": "python3"
  },
  "language_info": {
   "codemirror_mode": {
    "name": "ipython",
    "version": 3
   },
   "file_extension": ".py",
   "mimetype": "text/x-python",
   "name": "python",
   "nbconvert_exporter": "python",
   "pygments_lexer": "ipython3",
   "version": "3.13.2"
  }
 },
 "nbformat": 4,
 "nbformat_minor": 5
}
