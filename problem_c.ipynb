{
 "cells": [
  {
   "cell_type": "code",
   "execution_count": 9,
   "id": "eb667085",
   "metadata": {
    "ExecuteTime": {
     "end_time": "2025-04-18T07:34:32.032424Z",
     "start_time": "2025-04-18T07:34:31.905928Z"
    }
   },
   "outputs": [],
   "source": [
    "import pydub\n",
    "import numpy as np\n",
    "import os\n",
    "import sounddevice as sd"
   ]
  },
  {
   "cell_type": "code",
   "execution_count": 7,
   "id": "b30a5161",
   "metadata": {},
   "outputs": [],
   "source": [
    "audios=[]\n",
    "def find_(name:str):\n",
    "    result=[]\n",
    "    for idx,ch in enumerate(name):\n",
    "        if ch==\"_\":\n",
    "            result.append(idx)\n",
    "    return result\n",
    "for dirpath, dirnames, filenames in os.walk(\"./audio1\"):\n",
    "    for file_name in filenames:\n",
    "        if file_name==\".DS_Store\":\n",
    "            continue\n",
    "        audio_data={}\n",
    "        audio_data[\"format\"]=file_name[-3:]\n",
    "        i_=find_(file_name)\n",
    "        audio_data[\"type\"]=file_name[:i_[0]]\n",
    "        # print(audio_data[\"type\"])\n",
    "        # print(audio_data[\"freq\"])\n",
    "        audio_data[\"bits\"]=file_name[i_[-1]+1:-4]\n",
    "        # print(audio_data[\"bits\"])\n",
    "        audios.append(audio_data)\n",
    "        full_path=os.path.join(dirpath, file_name)\n",
    "        dub_temp=pydub.AudioSegment.from_file(full_path, format=audio_data[\"format\"]) \n",
    "        samples=dub_temp.get_array_of_samples()\n",
    "        sample_rate=dub_temp.frame_rate\n",
    "        audio_data[\"freq\"]=sample_rate\n",
    "        audio_data[\"data\"]=np.array(samples)\n",
    "        audios.append(audio_data)"
   ]
  },
  {
   "cell_type": "code",
   "execution_count": 10,
   "id": "3b2c69bc",
   "metadata": {},
   "outputs": [],
   "source": [
    "sd.play(audios[0][\"data\"], audios[0][\"freq\"])"
   ]
  },
  {
   "cell_type": "code",
   "execution_count": null,
   "id": "ac43f02d",
   "metadata": {},
   "outputs": [
    {
     "ename": "ModuleNotFoundError",
     "evalue": "No module named 'PySoundFile'",
     "output_type": "error",
     "traceback": [
      "\u001b[31m---------------------------------------------------------------------------\u001b[39m",
      "\u001b[31mModuleNotFoundError\u001b[39m                       Traceback (most recent call last)",
      "\u001b[36mCell\u001b[39m\u001b[36m \u001b[39m\u001b[32mIn[4]\u001b[39m\u001b[32m, line 1\u001b[39m\n\u001b[32m----> \u001b[39m\u001b[32m1\u001b[39m \u001b[38;5;28;01mimport\u001b[39;00m\u001b[38;5;250m \u001b[39m\u001b[34;01mPySoundFile\u001b[39;00m\n",
      "\u001b[31mModuleNotFoundError\u001b[39m: No module named 'PySoundFile'"
     ]
    }
   ],
   "source": []
  }
 ],
 "metadata": {
  "kernelspec": {
   "display_name": ".venv",
   "language": "python",
   "name": "python3"
  },
  "language_info": {
   "codemirror_mode": {
    "name": "ipython",
    "version": 3
   },
   "file_extension": ".py",
   "mimetype": "text/x-python",
   "name": "python",
   "nbconvert_exporter": "python",
   "pygments_lexer": "ipython3",
   "version": "3.13.2"
  }
 },
 "nbformat": 4,
 "nbformat_minor": 5
}
